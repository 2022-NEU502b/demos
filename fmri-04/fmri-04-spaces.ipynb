{
 "cells": [
  {
   "cell_type": "markdown",
   "metadata": {},
   "source": [
    "# `fMRI-04`: Software, spaces, and masking\n",
    "This notebook is a mixed bag of basic concepts in fMRI research. First, we'll highlight the variety of software packages used in fMRI research. Next, we'll focus on the idea of a \"coordinate space\" with accompanying concepts like templates, atlases, and masking."
   ]
  },
  {
   "cell_type": "code",
   "execution_count": 1,
   "metadata": {},
   "outputs": [],
   "source": [
    "import numpy as np\n",
    "import matplotlib.pyplot as plt\n",
    "import seaborn as sns\n",
    "sns.set_style('white')\n",
    "sns.set_context('notebook', font_scale=1.5)\n",
    "%matplotlib inline"
   ]
  },
  {
   "cell_type": "markdown",
   "metadata": {},
   "source": [
    "### Part 1: The fMRI software ecosystem\n",
    "\n",
    "Traditionally, fMRI researchers have relied on one of several software libraries for performing fMRI analysis. Packages such as [SPM](https://www.fil.ion.ucl.ac.uk/spm/) (MATLAB, UCL), [FSL](https://fsl.fmrib.ox.ac.uk/fsl/fslwiki/) (C/Python, Oxford), [AFNI](https://afni.nimh.nih.gov/) (C, NIMH), and [FreeSurfer](https://surfer.nmr.mgh.harvard.edu/) (C/MATLAB, MGH) are still the major workhouses for fMRI analysis. As the field of fMRI analysis has advanced (and as the wider fMRI community has grown more computationally savvy), there's been an increasing push to centralize and standardize tools and incorporate fMRI analysis into larger analytic workflows.\n",
    "\n",
    "Recently, there's been a collosal effort to move fMRI analysis into the Python ecosystem (and also R). The most prominent example of this is [NIPY](https://nipy.org/), a constellation of python packages for (f)MRI preprocessing and analysis including:\n",
    "\n",
    "- [nipype](https://nipype.readthedocs.io/en/latest/): a python pipeline framework that interfaces with existing neuroimaging software (the basis for [fMRIPrep](https://fmriprep.org/en/stable/))\n",
    "- [nibabel](https://nipy.org/nibabel/): provides read/write protocols to many common neuroimaging file formats (e.g. [NIfTI](https://nifti.nimh.nih.gov/))\n",
    "- [nilearn](https://nilearn.github.io/): comprehensive analytic toolkit for fMRI data\n",
    "- [BrainIAK](https://brainiak.org/): advanced computational analysis tools for fMRI\n",
    "- [nitime](http://nipy.org/nitime/): time-series analysis of data from neuroscience experiments\n",
    "- [PyMVPA](http://www.pymvpa.org/): multivariate pattern analysis for neuroimaging data\n",
    "- [CoSMoMVPA](https://www.cosmomvpa.org/): MATLAB port of PyMVPA\n",
    "- [mindboggle](https://mindboggle.info/): automated labeling and morphometric analysis of human brain image data \n",
    "- [mne](http://martinos.org/mne/stable/index.html): software for M/EEG data analysis\n",
    "- [lyman](https://github.com/mwaskom/lyman): python port of FSL\n",
    "- [FIRdeconvolution](https://github.com/tknapen/FIRDeconvolution): deconvolution algorithms for timeseries data\n",
    "- [neurodesign](https://github.com/neuropower/neurodesign): tools for fMRI experimental design and power analysis\n",
    "\n",
    "Many software tools provide some basic visualization as well. However, there are also a variety of dedicated visualization tools:\n",
    "- [MRIcron](https://people.cas.sc.edu/rorden/mricron/index.html): basic fMRI visualization\n",
    "- [pycortex](https://gallantlab.github.io/pycortex/): advanced cortical surface visualizaiton\n",
    "- [pysurfer](https://pysurfer.github.io/): cortical surface visualization in Python\n",
    "- [Surf-Ice](https://github.com/neurolabusc/surf-ice): standalone software for cortical surface visualization"
   ]
  },
  {
   "cell_type": "markdown",
   "metadata": {},
   "source": [
    "#### The Brain Imaging Data Structure (BIDS)\n",
    "There has (finally) been widespread adoption of a standardized format for fMRI data as well as the accompanying metadata and derivatives: the [Brain Imaging Data Structure (BIDS)](https://bids.neuroimaging.io/). This has accelerated data sharing and allowed for the development of automated processing pipelines:\n",
    "\n",
    "- [fMRIPrep](https://fmriprep.org/en/stable/): adaptive, automated preprocessing for fMRI data\n",
    "- [MRIQC](https://mriqc.readthedocs.io/en/stable/): automated quality control for fMRI data\n",
    "- [fitlins](https://github.com/poldracklab/fitlins): automated first-level analysis via fMRIPrep"
   ]
  },
  {
   "cell_type": "markdown",
   "metadata": {},
   "source": [
    "#### Where to begin...\n",
    "With so many options, the ecosystem for fMRI analysis can feel overwhelming. For this course, we'll be relying on only a handful of software packages with an emphasis on current best practices and the ubiquity of Python. We'll use [fMRIPrep](https://fmriprep.org/en/stable/) for automated preprocessing and [nilearn](https://nilearn.github.io/stable/index.html) for most downstream analyses. The [Princeton Handbook for Reproducible Neuroimaging](https://brainhack-princeton.github.io/handbook/) provides a good starting point."
   ]
  },
  {
   "cell_type": "markdown",
   "metadata": {},
   "source": [
    "### Part 2: Coordinate space(s)\n",
    "\n",
    "Over the course of fMRI processing, the functional data are often spatially transformed into another \"space\"—typically a standard space. We'll need to keep the following distinctions in mind during analysis:\n",
    "\n",
    "* native space vs. standard space\n",
    "* volume space vs. surface space\n",
    "* standard space and templates, e.g. MNI152, MNI305, fsaverage\n",
    "* voxel space vs. world space\n",
    "\n",
    "#### Native space vs. standard space\n",
    "The first distinction is between native and standard space. Native space refers to the subject-specific configuration under which the data were collected. Analyzing data in native space requires the minimal amount of data manipulation (e.g. aligning and resampling), but the lack of voxelwise correspondence across subjects prevents some types of group analysis. To achieve voxelwise correspondence across subjects, we typically perform spatial normalization to align each subject's data to a template image (e.g. *MNI152NLin2009cAsym*) in a standard space (e.g. *MNI space*). There are several standard spaces.\n",
    "\n",
    "#### Volume space vs. surface space\n",
    "The second distinction is between volume- and surface-based analysis. MRI data are collected in a volumetric format where each data point corresponds to a voxel at a particular location in a three-dimensional grid; volumetric analysis retains this three-dimensional grid representation of the data. In contrast, surface-based analysis is argued to better capture the sheet-like structure of the cortical mantle. In surace-based analysis, the functional data are resampled onto two-dimensional graph-like triangular mesh where each data point corresponds to a vertex at a particular location in the mesh. Importantly, two voxels on either side of a sulcus may appear to be close according to their Euclidean distance in volume space, whereas surface space more accurately that they are farther apart in terms of geodesic distance on the folded cortical surface. The *fsaverage* template is typically used for spatial normalization of surface-based data.\n",
    "\n",
    "#### Standard space and templates\n",
    "The third distinction is between a standard space and the specific *template* in that space. A template is an actual brain image (typically the average of many subjects) that serves as a target for alignment. Although \"MNI space\" is very widely used, there are in fact many specific *templates* in MNI space that each differ in small ways (read more [about the MNI space(s)](https://www.lead-dbs.org/about-the-mni-spaces/) at Lead-DBS).\n",
    "\n",
    "#### Voxel space vs. world space\n",
    "The fourth distinction is between voxel space and world space. A standard space (e.g. MNI space) is defined in real-world coordinates. However, any given brain image is rendered in a voxel space (or \"image space\") with a particular geometry and grid: i.e. voxel size, field of view, etc. The translation between the voxel space of a given brain image and real-world coordinates are stored in an matrix accompanying the data (called an *affine matrix*). When we align a brain image to a standard space, we align it in real-world coordinates, but then we resample (or slice it) onto a particular grid of voxels. Different brain images with different geometries (voxel size, field of view, etc) can all be *in* (i.e. *aligned to*) MNI space."
   ]
  },
  {
   "cell_type": "markdown",
   "metadata": {},
   "source": [
    "## Part 3: Working with Volume Data\n",
    "\n",
    "### Reading / Writing Volume Data\n",
    "Reading in MRI data is easy with `nibabel`. For a more complete tutorial, see [here](https://nipy.org/nibabel/gettingstarted.html)."
   ]
  },
  {
   "cell_type": "code",
   "execution_count": 2,
   "metadata": {},
   "outputs": [],
   "source": [
    "import nibabel as nib\n",
    "\n",
    "# Load anatomical data.\n",
    "img = nib.load('T1.nii.gz')"
   ]
  },
  {
   "cell_type": "markdown",
   "metadata": {},
   "source": [
    "Nibabel objects store many useful pieces of information, including the data, the affine transformation, and the header."
   ]
  },
  {
   "cell_type": "code",
   "execution_count": 3,
   "metadata": {},
   "outputs": [
    {
     "name": "stdout",
     "output_type": "stream",
     "text": [
      "['sizeof_hdr', 'data_type', 'db_name', 'extents', 'session_error', 'regular', 'dim_info', 'dim', 'intent_p1', 'intent_p2']\n"
     ]
    }
   ],
   "source": [
    "# Show header metadata\n",
    "print(img.header.keys()[:10])"
   ]
  },
  {
   "cell_type": "code",
   "execution_count": 4,
   "metadata": {},
   "outputs": [
    {
     "name": "stdout",
     "output_type": "stream",
     "text": [
      "[[  -2.    0.    0.   74.]\n",
      " [   0.    0.    2. -109.]\n",
      " [   0.   -2.    0.   85.]\n",
      " [   0.    0.    0.    1.]]\n"
     ]
    }
   ],
   "source": [
    "# Show affine matrix\n",
    "print(img.affine)"
   ]
  },
  {
   "cell_type": "markdown",
   "metadata": {},
   "source": [
    "Extracting the actual data is similarly easy."
   ]
  },
  {
   "cell_type": "code",
   "execution_count": 5,
   "metadata": {},
   "outputs": [
    {
     "name": "stdout",
     "output_type": "stream",
     "text": [
      "(76, 76, 93)\n"
     ]
    },
    {
     "data": {
      "image/png": "[encoded data removed]",
      "text/plain": [
       "<Figure size 432x288 with 1 Axes>"
      ]
     },
     "metadata": {},
     "output_type": "display_data"
    }
   ],
   "source": [
    "# Extract data\n",
    "data = img.get_fdata()\n",
    "print(data.shape)\n",
    "\n",
    "# Visualize one slice\n",
    "sns.heatmap(data[50], cmap='binary_r', square=True, cbar=False, \n",
    "            xticklabels=[], yticklabels=[]);"
   ]
  },
  {
   "cell_type": "markdown",
   "metadata": {},
   "source": [
    "Saving data is also easy. Whenever we save data, we must also store its associated affine transformation (otherwise we will not know how to interpret its spatial reference frame)."
   ]
  },
  {
   "cell_type": "code",
   "execution_count": 6,
   "metadata": {},
   "outputs": [],
   "source": [
    "# Convert data back into a NIfTI image\n",
    "new_img = nib.Nifti1Image(data, img.affine)\n",
    "\n",
    "# Save data to disk\n",
    "filename = 'example.nii.gz'\n",
    "# nib.save(nifti, filename)"
   ]
  },
  {
   "cell_type": "markdown",
   "metadata": {},
   "source": [
    "#### Masking volumetric data\n",
    "\n",
    "Typically, we don't actually want to analyize an entire MRI image. We want to extract some subset of voxels based on a particular \"mask\"—for example, the entire brain (excluding everything outside the brain), only gray matter (excluding white matter, CSF, etc), or a particular region of interest (ROI; e.g. ventral temporal cortex). As long as our data and mask are in the same space and on the same grid, we can mask our data using simple NumPy indexing. Here, we demonstrate masking with the brainmask and with an anatomical atlas."
   ]
  },
  {
   "cell_type": "code",
   "execution_count": 7,
   "metadata": {},
   "outputs": [
    {
     "name": "stdout",
     "output_type": "stream",
     "text": [
      "Data shape: (76, 76, 93)\n",
      "Mask shape: (76, 76, 93)\n"
     ]
    },
    {
     "data": {
      "image/png": "[encoded data removed]",
      "text/plain": [
       "<Figure size 352.421x288 with 1 Axes>"
      ]
     },
     "metadata": {},
     "output_type": "display_data"
    }
   ],
   "source": [
    "# Load brain mask\n",
    "mask = nib.load('brainmask.nii.gz').get_fdata()\n",
    "print(f\"Data shape: {data.shape}\")\n",
    "print(f\"Mask shape: {mask.shape}\")\n",
    "\n",
    "# Visualize one slice of mask\n",
    "plt.matshow(mask[50], cmap='binary_r')\n",
    "plt.xticks([])\n",
    "plt.yticks([])\n",
    "plt.show()"
   ]
  },
  {
   "cell_type": "code",
   "execution_count": 8,
   "metadata": {},
   "outputs": [
    {
     "data": {
      "image/png": "[encoded data removed]",
      "text/plain": [
       "<Figure size 352.421x288 with 1 Axes>"
      ]
     },
     "metadata": {},
     "output_type": "display_data"
    }
   ],
   "source": [
    "# Make copy of data\n",
    "copy = data.copy()\n",
    "\n",
    "# Zero out non-brain voxels for visualization\n",
    "copy[mask == 0] = 0\n",
    "\n",
    "# Visualize one slice\n",
    "plt.matshow(copy[50], cmap='binary_r')\n",
    "plt.xticks([])\n",
    "plt.yticks([])\n",
    "plt.show()"
   ]
  },
  {
   "cell_type": "markdown",
   "metadata": {},
   "source": [
    "When we extract data based on a mask, the original 3-dimensional data array is collapsed into a single dimension. We can use `np.where` to keep track of where the masked voxels came from in the original image."
   ]
  },
  {
   "cell_type": "code",
   "execution_count": 9,
   "metadata": {},
   "outputs": [
    {
     "name": "stdout",
     "output_type": "stream",
     "text": [
      "537168 total voxels in image\n",
      "304611 nonzero voxels in mask\n",
      "Masked data shape: (304611,)\n"
     ]
    }
   ],
   "source": [
    "# Count the voxels in our mask\n",
    "mask_count = np.sum(mask != 0)\n",
    "print(f\"{mask.size} total voxels in image\")\n",
    "print(f\"{mask_count} nonzero voxels in mask\")\n",
    "\n",
    "# Masked data is no longer 3-dimensional\n",
    "masked_data = data[mask != 0]\n",
    "print(f\"Masked data shape: {masked_data.shape}\")"
   ]
  },
  {
   "cell_type": "code",
   "execution_count": 10,
   "metadata": {},
   "outputs": [
    {
     "data": {
      "image/png": "[encoded data removed]",
      "text/plain": [
       "<Figure size 352.421x288 with 1 Axes>"
      ]
     },
     "metadata": {},
     "output_type": "display_data"
    }
   ],
   "source": [
    "# Track the original mask coordinates\n",
    "mask_coords = np.where(mask != 0)\n",
    "\n",
    "# Create an empty new image with original shape\n",
    "new_data = np.zeros(img.shape)\n",
    "\n",
    "# Modify our masked data in some way\n",
    "result = masked_data + np.random.randn(*masked_data.shape) * 20\n",
    "new_data[mask_coords] = result\n",
    "\n",
    "# Visualize one slice\n",
    "plt.matshow(new_data[50])\n",
    "plt.xticks([])\n",
    "plt.yticks([])\n",
    "plt.show()"
   ]
  }
 ],
 "metadata": {
  "kernelspec": {
   "display_name": "Python 3 (ipykernel)",
   "language": "python",
   "name": "python3"
  },
  "language_info": {
   "codemirror_mode": {
    "name": "ipython",
    "version": 3
   },
   "file_extension": ".py",
   "mimetype": "text/x-python",
   "name": "python",
   "nbconvert_exporter": "python",
   "pygments_lexer": "ipython3",
   "version": "3.9.5"
  }
 },
 "nbformat": 4,
 "nbformat_minor": 4
}
